{
  "nbformat": 4,
  "nbformat_minor": 0,
  "metadata": {
    "colab": {
      "name": "ann stock price",
      "provenance": [],
      "collapsed_sections": [],
      "toc_visible": true,
      "include_colab_link": true
    },
    "kernelspec": {
      "name": "python3",
      "display_name": "Python 3"
    }
  },
  "cells": [
    {
      "cell_type": "markdown",
      "metadata": {
        "id": "view-in-github",
        "colab_type": "text"
      },
      "source": [
        "<a href=\"https://colab.research.google.com/github/chinmay29hub/stock-market-analysis-using-deep-learning/blob/main/ann_stock_price.ipynb\" target=\"_parent\"><img src=\"https://colab.research.google.com/assets/colab-badge.svg\" alt=\"Open In Colab\"/></a>"
      ]
    },
    {
      "cell_type": "markdown",
      "metadata": {
        "id": "3cbb7fRy-eyr"
      },
      "source": [
        "# Artificial Neural Network"
      ]
    },
    {
      "cell_type": "markdown",
      "metadata": {
        "id": "8sNDnxE2-pwE"
      },
      "source": [
        "### Importing the libraries"
      ]
    },
    {
      "cell_type": "code",
      "metadata": {
        "id": "lxChR1Rk-umf"
      },
      "source": [
        "import numpy as np\n",
        "import pandas as pd\n",
        "import tensorflow as tf\n",
        "import matplotlib.pyplot as plt"
      ],
      "execution_count": null,
      "outputs": []
    },
    {
      "cell_type": "code",
      "metadata": {
        "id": "uBTqR3nacj0e",
        "colab": {
          "base_uri": "https://localhost:8080/",
          "height": 35
        },
        "outputId": "f3548872-ac45-4872-f81c-f2262916c73b"
      },
      "source": [
        "tf.__version__"
      ],
      "execution_count": null,
      "outputs": [
        {
          "output_type": "execute_result",
          "data": {
            "application/vnd.google.colaboratory.intrinsic+json": {
              "type": "string"
            },
            "text/plain": [
              "'2.4.1'"
            ]
          },
          "metadata": {
            "tags": []
          },
          "execution_count": 2
        }
      ]
    },
    {
      "cell_type": "markdown",
      "metadata": {
        "id": "AG3FQEch-yuA"
      },
      "source": [
        "## Part 1 - Data Preprocessing"
      ]
    },
    {
      "cell_type": "markdown",
      "metadata": {
        "id": "-4zq8Mza_D9O"
      },
      "source": [
        "### Importing the dataset"
      ]
    },
    {
      "cell_type": "code",
      "metadata": {
        "id": "B9CV13Co_HHM"
      },
      "source": [
        "dataset_train=pd.read_csv('Google_Stock_Price_Train.csv')\n",
        "dataset_test=pd.read_csv('Google_Stock_Price_Test.csv')\n",
        "X_train=dataset_train.iloc[:-1,1:2].values  #creating a numarray that contains the open price of the stock\n",
        "y_train=dataset_train.iloc[1:,1:2].values\n",
        "X_test=dataset_test.iloc[:-1,1:2].values  #creating a numarray that contains the open price of the stock\n",
        "y_test=dataset_test.iloc[1:,1:2].values"
      ],
      "execution_count": null,
      "outputs": []
    },
    {
      "cell_type": "markdown",
      "metadata": {
        "id": "PQU3D4i8HjBu"
      },
      "source": [
        "we are trying to predict the opening price using the previous days opening stock price\n"
      ]
    },
    {
      "cell_type": "code",
      "metadata": {
        "colab": {
          "base_uri": "https://localhost:8080/"
        },
        "id": "1SRK5NIUHNT0",
        "outputId": "368254ce-203a-4e9d-b864-1b5c1c7dfb6b"
      },
      "source": [
        "print(y_test)"
      ],
      "execution_count": null,
      "outputs": [
        {
          "output_type": "stream",
          "text": [
            "[[788.36]\n",
            " [786.08]\n",
            " [795.26]\n",
            " [806.4 ]\n",
            " [807.86]\n",
            " [805.  ]\n",
            " [807.14]\n",
            " [807.48]\n",
            " [807.08]\n",
            " [805.81]\n",
            " [805.12]\n",
            " [806.91]\n",
            " [807.25]\n",
            " [822.3 ]\n",
            " [829.62]\n",
            " [837.81]\n",
            " [834.71]\n",
            " [814.66]\n",
            " [796.86]]\n"
          ],
          "name": "stdout"
        }
      ]
    },
    {
      "cell_type": "code",
      "metadata": {
        "colab": {
          "base_uri": "https://localhost:8080/"
        },
        "id": "B_Dee-AhEfA9",
        "outputId": "6598aea1-260a-4d91-b82e-4816c4ee2418"
      },
      "source": [
        "print(X_test)"
      ],
      "execution_count": null,
      "outputs": [
        {
          "output_type": "stream",
          "text": [
            "[[778.81]\n",
            " [788.36]\n",
            " [786.08]\n",
            " [795.26]\n",
            " [806.4 ]\n",
            " [807.86]\n",
            " [805.  ]\n",
            " [807.14]\n",
            " [807.48]\n",
            " [807.08]\n",
            " [805.81]\n",
            " [805.12]\n",
            " [806.91]\n",
            " [807.25]\n",
            " [822.3 ]\n",
            " [829.62]\n",
            " [837.81]\n",
            " [834.71]\n",
            " [814.66]]\n"
          ],
          "name": "stdout"
        }
      ]
    },
    {
      "cell_type": "markdown",
      "metadata": {
        "id": "_mSLlAT9_eyI"
      },
      "source": [
        "## Part 2 - Building the ANN"
      ]
    },
    {
      "cell_type": "markdown",
      "metadata": {
        "id": "CsBULd_f_wLY"
      },
      "source": [
        "### Initializing the ANN"
      ]
    },
    {
      "cell_type": "code",
      "metadata": {
        "id": "J6Hd97Ls__Nz"
      },
      "source": [
        "ann = tf.keras.models.Sequential()#used to create a sequnece of layers\n"
      ],
      "execution_count": null,
      "outputs": []
    },
    {
      "cell_type": "markdown",
      "metadata": {
        "id": "iitAFJS_ABUn"
      },
      "source": [
        "### Adding the input layer and the first hidden layer"
      ]
    },
    {
      "cell_type": "code",
      "metadata": {
        "id": "ksO_Vv40AHix"
      },
      "source": [
        "ann.add(tf.keras.layers.Dense(units=6, activation='relu'))"
      ],
      "execution_count": null,
      "outputs": []
    },
    {
      "cell_type": "markdown",
      "metadata": {
        "id": "-lb4kK_wAKbs"
      },
      "source": [
        "### Adding the second hidden layer"
      ]
    },
    {
      "cell_type": "code",
      "metadata": {
        "id": "c2357OqEAQOQ"
      },
      "source": [
        "ann.add(tf.keras.layers.Dense(units=6, activation='relu'))"
      ],
      "execution_count": null,
      "outputs": []
    },
    {
      "cell_type": "markdown",
      "metadata": {
        "id": "jwMOmKb3AdBY"
      },
      "source": [
        "### Adding the output layer"
      ]
    },
    {
      "cell_type": "code",
      "metadata": {
        "id": "YFATpzsUAkLL"
      },
      "source": [
        "ann.add(tf.keras.layers.Dense(units=1))"
      ],
      "execution_count": null,
      "outputs": []
    },
    {
      "cell_type": "markdown",
      "metadata": {
        "id": "fq7e4fF6A1yy"
      },
      "source": [
        "## Part 3 - Training the ANN"
      ]
    },
    {
      "cell_type": "markdown",
      "metadata": {
        "id": "qDeylAs2An25"
      },
      "source": [
        "### Compiling the ANN"
      ]
    },
    {
      "cell_type": "code",
      "metadata": {
        "id": "pesgbWlCAtB4"
      },
      "source": [
        "ann.compile(optimizer = 'adam', loss = 'mean_squared_error')"
      ],
      "execution_count": null,
      "outputs": []
    },
    {
      "cell_type": "markdown",
      "metadata": {
        "id": "YjVuiybYOo7r"
      },
      "source": [
        "### Training the ANN model on the Training set"
      ]
    },
    {
      "cell_type": "code",
      "metadata": {
        "id": "c_vV-tiiA5zn",
        "colab": {
          "base_uri": "https://localhost:8080/"
        },
        "outputId": "d50074c3-5ba3-4c5f-c0d6-596966d36bf1"
      },
      "source": [
        "ann.fit(X_train, y_train, batch_size = 32, epochs = 100)"
      ],
      "execution_count": null,
      "outputs": [
        {
          "output_type": "stream",
          "text": [
            "Epoch 1/100\n",
            "40/40 [==============================] - 1s 955us/step - loss: 300666.1082\n",
            "Epoch 2/100\n",
            "40/40 [==============================] - 0s 882us/step - loss: 287348.0816\n",
            "Epoch 3/100\n",
            "40/40 [==============================] - 0s 835us/step - loss: 268360.5846\n",
            "Epoch 4/100\n",
            "40/40 [==============================] - 0s 1ms/step - loss: 241714.8773\n",
            "Epoch 5/100\n",
            "40/40 [==============================] - 0s 1ms/step - loss: 211685.1528\n",
            "Epoch 6/100\n",
            "40/40 [==============================] - 0s 1ms/step - loss: 177961.1761\n",
            "Epoch 7/100\n",
            "40/40 [==============================] - 0s 1ms/step - loss: 140823.7668\n",
            "Epoch 8/100\n",
            "40/40 [==============================] - 0s 979us/step - loss: 106800.0133\n",
            "Epoch 9/100\n",
            "40/40 [==============================] - 0s 954us/step - loss: 73618.4484\n",
            "Epoch 10/100\n",
            "40/40 [==============================] - 0s 942us/step - loss: 46267.6933\n",
            "Epoch 11/100\n",
            "40/40 [==============================] - 0s 1ms/step - loss: 27152.4443\n",
            "Epoch 12/100\n",
            "40/40 [==============================] - 0s 1ms/step - loss: 13693.2999\n",
            "Epoch 13/100\n",
            "40/40 [==============================] - 0s 1ms/step - loss: 6413.9220\n",
            "Epoch 14/100\n",
            "40/40 [==============================] - 0s 1ms/step - loss: 2571.5083\n",
            "Epoch 15/100\n",
            "40/40 [==============================] - 0s 922us/step - loss: 912.5056\n",
            "Epoch 16/100\n",
            "40/40 [==============================] - 0s 935us/step - loss: 360.5760\n",
            "Epoch 17/100\n",
            "40/40 [==============================] - 0s 951us/step - loss: 154.1691\n",
            "Epoch 18/100\n",
            "40/40 [==============================] - 0s 948us/step - loss: 82.6349\n",
            "Epoch 19/100\n",
            "40/40 [==============================] - 0s 1ms/step - loss: 68.1344\n",
            "Epoch 20/100\n",
            "40/40 [==============================] - 0s 1ms/step - loss: 65.2123\n",
            "Epoch 21/100\n",
            "40/40 [==============================] - 0s 1ms/step - loss: 73.4268\n",
            "Epoch 22/100\n",
            "40/40 [==============================] - 0s 1ms/step - loss: 66.5705\n",
            "Epoch 23/100\n",
            "40/40 [==============================] - 0s 981us/step - loss: 66.8523\n",
            "Epoch 24/100\n",
            "40/40 [==============================] - 0s 966us/step - loss: 98.4292\n",
            "Epoch 25/100\n",
            "40/40 [==============================] - 0s 1ms/step - loss: 72.0387\n",
            "Epoch 26/100\n",
            "40/40 [==============================] - 0s 1ms/step - loss: 70.8696\n",
            "Epoch 27/100\n",
            "40/40 [==============================] - 0s 1ms/step - loss: 62.1426\n",
            "Epoch 28/100\n",
            "40/40 [==============================] - 0s 1ms/step - loss: 60.9279\n",
            "Epoch 29/100\n",
            "40/40 [==============================] - 0s 1ms/step - loss: 73.1256\n",
            "Epoch 30/100\n",
            "40/40 [==============================] - 0s 1ms/step - loss: 66.5057\n",
            "Epoch 31/100\n",
            "40/40 [==============================] - 0s 948us/step - loss: 72.2886\n",
            "Epoch 32/100\n",
            "40/40 [==============================] - 0s 1ms/step - loss: 56.4139\n",
            "Epoch 33/100\n",
            "40/40 [==============================] - 0s 948us/step - loss: 94.6829\n",
            "Epoch 34/100\n",
            "40/40 [==============================] - 0s 1ms/step - loss: 74.2558\n",
            "Epoch 35/100\n",
            "40/40 [==============================] - 0s 1ms/step - loss: 60.2669\n",
            "Epoch 36/100\n",
            "40/40 [==============================] - 0s 1ms/step - loss: 69.0601\n",
            "Epoch 37/100\n",
            "40/40 [==============================] - 0s 984us/step - loss: 64.6387\n",
            "Epoch 38/100\n",
            "40/40 [==============================] - 0s 969us/step - loss: 75.1964\n",
            "Epoch 39/100\n",
            "40/40 [==============================] - 0s 1ms/step - loss: 63.7025\n",
            "Epoch 40/100\n",
            "40/40 [==============================] - 0s 1ms/step - loss: 66.8347\n",
            "Epoch 41/100\n",
            "40/40 [==============================] - 0s 983us/step - loss: 72.5396\n",
            "Epoch 42/100\n",
            "40/40 [==============================] - 0s 963us/step - loss: 73.2231\n",
            "Epoch 43/100\n",
            "40/40 [==============================] - 0s 974us/step - loss: 68.4270\n",
            "Epoch 44/100\n",
            "40/40 [==============================] - 0s 959us/step - loss: 62.2422\n",
            "Epoch 45/100\n",
            "40/40 [==============================] - 0s 1ms/step - loss: 86.6929\n",
            "Epoch 46/100\n",
            "40/40 [==============================] - 0s 1ms/step - loss: 89.4129\n",
            "Epoch 47/100\n",
            "40/40 [==============================] - 0s 1ms/step - loss: 69.3070\n",
            "Epoch 48/100\n",
            "40/40 [==============================] - 0s 988us/step - loss: 61.0296\n",
            "Epoch 49/100\n",
            "40/40 [==============================] - 0s 989us/step - loss: 76.0195\n",
            "Epoch 50/100\n",
            "40/40 [==============================] - 0s 1ms/step - loss: 61.5203\n",
            "Epoch 51/100\n",
            "40/40 [==============================] - 0s 885us/step - loss: 71.1351\n",
            "Epoch 52/100\n",
            "40/40 [==============================] - 0s 997us/step - loss: 67.5241\n",
            "Epoch 53/100\n",
            "40/40 [==============================] - 0s 892us/step - loss: 70.1291\n",
            "Epoch 54/100\n",
            "40/40 [==============================] - 0s 924us/step - loss: 91.7194\n",
            "Epoch 55/100\n",
            "40/40 [==============================] - 0s 918us/step - loss: 78.9345\n",
            "Epoch 56/100\n",
            "40/40 [==============================] - 0s 935us/step - loss: 68.5853\n",
            "Epoch 57/100\n",
            "40/40 [==============================] - 0s 1ms/step - loss: 69.5824\n",
            "Epoch 58/100\n",
            "40/40 [==============================] - 0s 984us/step - loss: 60.2268\n",
            "Epoch 59/100\n",
            "40/40 [==============================] - 0s 933us/step - loss: 78.8011\n",
            "Epoch 60/100\n",
            "40/40 [==============================] - 0s 941us/step - loss: 92.3489\n",
            "Epoch 61/100\n",
            "40/40 [==============================] - 0s 914us/step - loss: 69.2876\n",
            "Epoch 62/100\n",
            "40/40 [==============================] - 0s 998us/step - loss: 71.5341\n",
            "Epoch 63/100\n",
            "40/40 [==============================] - 0s 910us/step - loss: 67.2281\n",
            "Epoch 64/100\n",
            "40/40 [==============================] - 0s 958us/step - loss: 71.5318\n",
            "Epoch 65/100\n",
            "40/40 [==============================] - 0s 1ms/step - loss: 88.7131\n",
            "Epoch 66/100\n",
            "40/40 [==============================] - 0s 952us/step - loss: 81.5476\n",
            "Epoch 67/100\n",
            "40/40 [==============================] - 0s 1ms/step - loss: 84.1441\n",
            "Epoch 68/100\n",
            "40/40 [==============================] - 0s 992us/step - loss: 61.8360\n",
            "Epoch 69/100\n",
            "40/40 [==============================] - 0s 1ms/step - loss: 70.7751\n",
            "Epoch 70/100\n",
            "40/40 [==============================] - 0s 975us/step - loss: 75.8346\n",
            "Epoch 71/100\n",
            "40/40 [==============================] - 0s 991us/step - loss: 72.0111\n",
            "Epoch 72/100\n",
            "40/40 [==============================] - 0s 899us/step - loss: 65.5019\n",
            "Epoch 73/100\n",
            "40/40 [==============================] - 0s 1ms/step - loss: 83.9856\n",
            "Epoch 74/100\n",
            "40/40 [==============================] - 0s 1ms/step - loss: 75.2161\n",
            "Epoch 75/100\n",
            "40/40 [==============================] - 0s 889us/step - loss: 75.1753\n",
            "Epoch 76/100\n",
            "40/40 [==============================] - 0s 931us/step - loss: 93.4760\n",
            "Epoch 77/100\n",
            "40/40 [==============================] - 0s 986us/step - loss: 63.9554\n",
            "Epoch 78/100\n",
            "40/40 [==============================] - 0s 908us/step - loss: 64.9551\n",
            "Epoch 79/100\n",
            "40/40 [==============================] - 0s 956us/step - loss: 88.3085\n",
            "Epoch 80/100\n",
            "40/40 [==============================] - 0s 957us/step - loss: 75.1303\n",
            "Epoch 81/100\n",
            "40/40 [==============================] - 0s 933us/step - loss: 85.4251\n",
            "Epoch 82/100\n",
            "40/40 [==============================] - 0s 922us/step - loss: 76.2417\n",
            "Epoch 83/100\n",
            "40/40 [==============================] - 0s 1ms/step - loss: 74.6185\n",
            "Epoch 84/100\n",
            "40/40 [==============================] - 0s 998us/step - loss: 61.0351\n",
            "Epoch 85/100\n",
            "40/40 [==============================] - 0s 978us/step - loss: 67.3986\n",
            "Epoch 86/100\n",
            "40/40 [==============================] - 0s 1ms/step - loss: 65.9373\n",
            "Epoch 87/100\n",
            "40/40 [==============================] - 0s 1ms/step - loss: 69.7503\n",
            "Epoch 88/100\n",
            "40/40 [==============================] - 0s 1ms/step - loss: 79.3417\n",
            "Epoch 89/100\n",
            "40/40 [==============================] - 0s 1ms/step - loss: 59.3604\n",
            "Epoch 90/100\n",
            "40/40 [==============================] - 0s 1ms/step - loss: 63.3542\n",
            "Epoch 91/100\n",
            "40/40 [==============================] - 0s 967us/step - loss: 69.6841\n",
            "Epoch 92/100\n",
            "40/40 [==============================] - 0s 964us/step - loss: 68.2306\n",
            "Epoch 93/100\n",
            "40/40 [==============================] - 0s 1ms/step - loss: 57.1766\n",
            "Epoch 94/100\n",
            "40/40 [==============================] - 0s 1ms/step - loss: 69.7885\n",
            "Epoch 95/100\n",
            "40/40 [==============================] - 0s 1ms/step - loss: 85.9987\n",
            "Epoch 96/100\n",
            "40/40 [==============================] - 0s 1ms/step - loss: 67.6086\n",
            "Epoch 97/100\n",
            "40/40 [==============================] - 0s 1ms/step - loss: 87.2437\n",
            "Epoch 98/100\n",
            "40/40 [==============================] - 0s 1ms/step - loss: 84.5413\n",
            "Epoch 99/100\n",
            "40/40 [==============================] - 0s 1ms/step - loss: 72.6532\n",
            "Epoch 100/100\n",
            "40/40 [==============================] - 0s 1ms/step - loss: 65.8435\n"
          ],
          "name": "stdout"
        },
        {
          "output_type": "execute_result",
          "data": {
            "text/plain": [
              "<tensorflow.python.keras.callbacks.History at 0x7fa252993190>"
            ]
          },
          "metadata": {
            "tags": []
          },
          "execution_count": 11
        }
      ]
    },
    {
      "cell_type": "markdown",
      "metadata": {
        "id": "0H0zKKNEBLD5"
      },
      "source": [
        "### Predicting the results of the Test set"
      ]
    },
    {
      "cell_type": "code",
      "metadata": {
        "id": "IA0yApEmBG1X",
        "colab": {
          "base_uri": "https://localhost:8080/"
        },
        "outputId": "e0b46c60-65b9-4c86-952d-8fad1ddc0115"
      },
      "source": [
        "y_pred = ann.predict(X_test)\n",
        "# np.set_printoptions(precision=2)#set the decimal place to 2\n",
        "# print(np.concatenate((y_pred.reshape(len(y_pred),1), y_test.reshape(len(y_test),1)),1))#reshaping horizontal to vertical vector\n",
        "print(y_pred)\n",
        "print(y_test)\n",
        "print(y_pred-y_test)"
      ],
      "execution_count": null,
      "outputs": [
        {
          "output_type": "stream",
          "text": [
            "[[778.235  ]\n",
            " [787.7577 ]\n",
            " [785.4842 ]\n",
            " [794.63806]\n",
            " [805.7462 ]\n",
            " [807.202  ]\n",
            " [804.3502 ]\n",
            " [806.4842 ]\n",
            " [806.8232 ]\n",
            " [806.4243 ]\n",
            " [805.15796]\n",
            " [804.4699 ]\n",
            " [806.2548 ]\n",
            " [806.59375]\n",
            " [821.6008 ]\n",
            " [828.8999 ]\n",
            " [837.0665 ]\n",
            " [833.97546]\n",
            " [813.98267]]\n",
            "[[788.36]\n",
            " [786.08]\n",
            " [795.26]\n",
            " [806.4 ]\n",
            " [807.86]\n",
            " [805.  ]\n",
            " [807.14]\n",
            " [807.48]\n",
            " [807.08]\n",
            " [805.81]\n",
            " [805.12]\n",
            " [806.91]\n",
            " [807.25]\n",
            " [822.3 ]\n",
            " [829.62]\n",
            " [837.81]\n",
            " [834.71]\n",
            " [814.66]\n",
            " [796.86]]\n",
            "[[-10.12501465]\n",
            " [  1.67769043]\n",
            " [ -9.77580811]\n",
            " [-11.76193848]\n",
            " [ -2.11378418]\n",
            " [  2.20202637]\n",
            " [ -2.78978027]\n",
            " [ -0.99580811]\n",
            " [ -0.25681885]\n",
            " [  0.61431641]\n",
            " [  0.03795898]\n",
            " [ -2.44009033]\n",
            " [ -0.99517822]\n",
            " [-15.70625   ]\n",
            " [ -8.01916992]\n",
            " [ -8.91009766]\n",
            " [  2.35652832]\n",
            " [ 19.31546387]\n",
            " [ 17.12266602]]\n"
          ],
          "name": "stdout"
        }
      ]
    },
    {
      "cell_type": "code",
      "metadata": {
        "id": "8OUI8U49k9tH",
        "colab": {
          "base_uri": "https://localhost:8080/",
          "height": 295
        },
        "outputId": "c217c649-2a1e-4822-c3ef-8ca3ec07b00a"
      },
      "source": [
        "from sklearn.metrics import confusion_matrix, accuracy_score\n",
        "plt.plot(y_test, color = 'red', label = 'Real Google Stock Price')\n",
        "plt.plot(y_pred, color = 'blue', label = 'Predicted Google Stock Price')\n",
        "plt.title('Google Stock Price Prediction')\n",
        "plt.xlabel('Time')\n",
        "plt.ylabel('Google Stock Price')\n",
        "plt.legend()\n",
        "plt.show()\n"
      ],
      "execution_count": null,
      "outputs": [
        {
          "output_type": "display_data",
          "data": {
            "image/png": "[encoded data removed]",
            "text/plain": [
              "<Figure size 432x288 with 1 Axes>"
            ]
          },
          "metadata": {
            "tags": [],
            "needs_background": "light"
          }
        }
      ]
    },
    {
      "cell_type": "code",
      "metadata": {
        "colab": {
          "base_uri": "https://localhost:8080/",
          "height": 280
        },
        "id": "2FijTDYmWwpv",
        "outputId": "36584881-cf56-4ebe-a806-243288fc5b2a"
      },
      "source": [
        "plt.plot(abs(y_pred-y_test), color = 'red', label = 'Difference')\n",
        "plt.xlabel('Time')\n",
        "plt.ylabel('difference')\n",
        "plt.legend()\n",
        "plt.show()"
      ],
      "execution_count": null,
      "outputs": [
        {
          "output_type": "display_data",
          "data": {
            "image/png": "[encoded data removed]",
            "text/plain": [
              "<Figure size 432x288 with 1 Axes>"
            ]
          },
          "metadata": {
            "tags": [],
            "needs_background": "light"
          }
        }
      ]
    },
    {
      "cell_type": "code",
      "metadata": {
        "id": "GuWR7o1ZQc9j"
      },
      "source": [
        "# dataset_test_1=pd.read_csv('WIPRO.NS.csv')\n",
        "# X_test_1=dataset_test_1.iloc[:-1,1:2].values  #creating a numarray that contains the open price of the stock\n",
        "# y_test_1=dataset_test_1.iloc[1:,1:2].values\n",
        "# y_pred_1 = ann.predict(X_test_1)\n",
        "# # np.set_printoptions(precision=2)#set the decimal place to 2\n",
        "# # print(np.concatenate((y_pred.reshape(len(y_pred),1), y_test.reshape(len(y_test),1)),1))#reshaping horizontal to vertical vector\n",
        "\n",
        "# plt.plot(y_test_1[:15], color = 'red', label = 'Real Wipro Stock Price')\n",
        "# plt.plot(y_pred_1[:15], color = 'blue', label = 'Predicted Wipro Stock Price')\n",
        "# plt.title('Google Stock Price Prediction')\n",
        "# plt.xlabel('Time')\n",
        "# plt.ylabel('Google Stock Price')\n",
        "# plt.legend()\n",
        "# plt.show()"
      ],
      "execution_count": null,
      "outputs": []
    }
  ]
}